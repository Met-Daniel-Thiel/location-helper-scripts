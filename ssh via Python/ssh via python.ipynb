{
 "cells": [
  {
   "cell_type": "code",
   "execution_count": 13,
   "metadata": {},
   "outputs": [
    {
     "name": "stdout",
     "output_type": "stream",
     "text": [
      "total 144\n",
      "dr-xr-xr-x.   2 root root  4096 Jun 28  2022 bin\n",
      "dr-xr-xr-x.   5 root root  3072 May 16 05:50 boot\n",
      "drwxr-xr-x.   2 root root  4096 Aug 22  2018 cgroup\n",
      "drwxr-xr-x.  17 root root  3720 Aug 15 05:57 dev\n",
      "drwxr-xr-x.  94 root root 12288 Aug 15 05:57 etc\n",
      "drwxr-xr-x. 515 root root 16384 Sep  5 08:28 home\n",
      "dr-xr-xr-x.  10 root root  4096 Jan 21  2020 lib\n",
      "dr-xr-xr-x.   9 root root 12288 Jan 17  2023 lib64\n",
      "drwx------.   2 root root 16384 Feb  1  2013 lost+found\n",
      "drwxr-xr-x.   2 root root  4096 Jun 28  2011 media\n",
      "drwxr-xr-x.   2 root root     0 Aug 15 05:57 misc\n",
      "drwxr-xr-x.   2 root root  4096 Jun 28  2011 mnt\n",
      "drwxr-xr-x.   2 root root     0 Aug 15 05:57 net\n",
      "drwxr-xr-x.  10 root root  4096 Dec 20  2017 nsr\n",
      "drwxr-xr-x.   4 root root  4096 Jul 21  2022 opt\n",
      "dr-xr-xr-x. 154 root root     0 Aug 15 05:57 proc\n",
      "dr-xr-x---.   9 root root  4096 Apr 18 16:22 root\n",
      "dr-xr-xr-x.   2 root root 12288 Oct 10  2022 sbin\n",
      "drwxr-xr-x.   7 root root     0 Aug 15 05:57 selinux\n",
      "drwxr-xr-x.   2 root root  4096 Jun 28  2011 srv\n",
      "drwxr-xr-x   13 root root     0 Aug 15 05:57 sys\n",
      "drwxrwxrwt.  13 root root 28672 Sep  8 10:09 tmp\n",
      "drwxr-xr-x.  13 root root  4096 Feb  1  2013 usr\n",
      "drwxr-xr-x.  18 root root  4096 Jan 24  2018 var\n",
      "\n"
     ]
    }
   ],
   "source": [
    "import paramiko\n",
    "\n",
    "host = \"exvtisssh01.metoffice.gov.uk\"\n",
    "port = 22\n",
    "username = \"dthiel\"\n",
    "password = \"RedFruit8146\"\n",
    "\n",
    "ssh = paramiko.SSHClient()\n",
    "ssh.set_missing_host_key_policy(paramiko.AutoAddPolicy())\n",
    "\n",
    "try:\n",
    "    ssh.connect(host,port,username,password)\n",
    "    stdin, stdout, stderr = ssh.exec_command('cd / && ls -l')\n",
    "    print(stdout.read().decode())\n",
    "\n",
    "\n",
    "finally:\n",
    "    ssh.close()"
   ]
  },
  {
   "cell_type": "code",
   "execution_count": 7,
   "metadata": {},
   "outputs": [
    {
     "ename": "TimeoutError",
     "evalue": "[WinError 10060] A connection attempt failed because the connected party did not properly respond after a period of time, or established connection failed because connected host has failed to respond",
     "output_type": "error",
     "traceback": [
      "\u001b[1;31m---------------------------------------------------------------------------\u001b[0m",
      "\u001b[1;31mTimeoutError\u001b[0m                              Traceback (most recent call last)",
      "Cell \u001b[1;32mIn[7], line 16\u001b[0m\n\u001b[0;32m     13\u001b[0m ssh\u001b[39m.\u001b[39mconnect(host,port,username,password)\n\u001b[0;32m     15\u001b[0m \u001b[39mtry\u001b[39;00m:\n\u001b[1;32m---> 16\u001b[0m     ssh\u001b[39m.\u001b[39;49mconnect(host2,port,username,password)\n\u001b[0;32m     18\u001b[0m     stdin, stdout, stderr \u001b[39m=\u001b[39m ssh\u001b[39m.\u001b[39mexec_command(\u001b[39m'\u001b[39m\u001b[39mcd / && ls -l\u001b[39m\u001b[39m'\u001b[39m)\n\u001b[0;32m     19\u001b[0m     \u001b[39mprint\u001b[39m(stdout\u001b[39m.\u001b[39mread()\u001b[39m.\u001b[39mdecode())\n",
      "File \u001b[1;32m~\\AppData\\Roaming\\Python\\Python39\\site-packages\\paramiko\\client.py:386\u001b[0m, in \u001b[0;36mSSHClient.connect\u001b[1;34m(self, hostname, port, username, password, pkey, key_filename, timeout, allow_agent, look_for_keys, compress, sock, gss_auth, gss_kex, gss_deleg_creds, gss_host, banner_timeout, auth_timeout, channel_timeout, gss_trust_dns, passphrase, disabled_algorithms, transport_factory, auth_strategy)\u001b[0m\n\u001b[0;32m    384\u001b[0m     \u001b[39mexcept\u001b[39;00m:\n\u001b[0;32m    385\u001b[0m         \u001b[39mpass\u001b[39;00m\n\u001b[1;32m--> 386\u001b[0m sock\u001b[39m.\u001b[39;49mconnect(addr)\n\u001b[0;32m    387\u001b[0m \u001b[39m# Break out of the loop on success\u001b[39;00m\n\u001b[0;32m    388\u001b[0m \u001b[39mbreak\u001b[39;00m\n",
      "\u001b[1;31mTimeoutError\u001b[0m: [WinError 10060] A connection attempt failed because the connected party did not properly respond after a period of time, or established connection failed because connected host has failed to respond"
     ]
    }
   ],
   "source": [
    "import paramiko\n",
    "\n",
    "host = \"exvtisssh01.metoffice.gov.uk\"\n",
    "host2 = \"exvsrvgrpdp1dev01-mgmt\"\n",
    "port = 22\n",
    "username = \"dthiel\"\n",
    "password = \"RedFruit8146\"\n",
    "\n",
    "ssh = paramiko.SSHClient()\n",
    "ssh.set_missing_host_key_policy(paramiko.AutoAddPolicy())\n",
    "\n",
    "try:  \n",
    "    ssh.connect(host,port,username,password)\n",
    "\n",
    "    try:\n",
    "        ssh.connect(host2,port,username,password)\n",
    "        stdin, stdout, stderr = ssh.exec_command('cd / && ls -l')\n",
    "        print(stdout.read().decode())\n",
    "    \n",
    "    finally:\n",
    "        ssh.close()\n",
    "\n",
    "finally:\n",
    "    ssh.close()"
   ]
  }
 ],
 "metadata": {
  "kernelspec": {
   "display_name": "Python 3",
   "language": "python",
   "name": "python3"
  },
  "language_info": {
   "codemirror_mode": {
    "name": "ipython",
    "version": 3
   },
   "file_extension": ".py",
   "mimetype": "text/x-python",
   "name": "python",
   "nbconvert_exporter": "python",
   "pygments_lexer": "ipython3",
   "version": "3.9.13"
  },
  "orig_nbformat": 4
 },
 "nbformat": 4,
 "nbformat_minor": 2
}
