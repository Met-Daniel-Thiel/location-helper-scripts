{
 "cells": [
  {
   "cell_type": "code",
   "execution_count": 1,
   "metadata": {},
   "outputs": [
    {
     "name": "stdout",
     "output_type": "stream",
     "text": [
      "4\n"
     ]
    }
   ],
   "source": [
    "# Combines several csv files together\n",
    "# Files must be located in the same folder and have the same headers\n",
    "\n",
    "import os\n",
    "import pandas as pd\n",
    "\n",
    "folder_path = r'C:\\Users\\daniel.thiel\\Desktop\\tenable'\n",
    "\n",
    "# List all CSV files in the folder\n",
    "files = [file for file in os.listdir(folder_path) if file.endswith('.csv')]\n",
    "print(len(files))"
   ]
  },
  {
   "cell_type": "code",
   "execution_count": 2,
   "metadata": {},
   "outputs": [],
   "source": [
    "# Read and concatenate the CSV files\n",
    "dfs = []\n",
    "for file_name in files:\n",
    "    file_path = os.path.join(folder_path, file_name)\n",
    "    df = pd.read_csv(file_path)\n",
    "    dfs.append(df)\n",
    "combined_df = pd.concat(dfs, ignore_index=True)"
   ]
  },
  {
   "cell_type": "code",
   "execution_count": 3,
   "metadata": {},
   "outputs": [
    {
     "name": "stdout",
     "output_type": "stream",
     "text": [
      "Combined file saved successfully.\n"
     ]
    }
   ],
   "source": [
    "# Save the combined data to a new CSV file\n",
    "combined_file_path = os.path.join(folder_path, 'combined.csv')\n",
    "combined_df.to_csv(combined_file_path, index=False)\n",
    "\n",
    "print('Combined file saved successfully.')"
   ]
  },
  {
   "cell_type": "code",
   "execution_count": 5,
   "metadata": {},
   "outputs": [],
   "source": [
    "import os\n",
    "os.mkdir('./forecast_locations/map_output_files')"
   ]
  }
 ],
 "metadata": {
  "kernelspec": {
   "display_name": "Python 3",
   "language": "python",
   "name": "python3"
  },
  "language_info": {
   "codemirror_mode": {
    "name": "ipython",
    "version": 3
   },
   "file_extension": ".py",
   "mimetype": "text/x-python",
   "name": "python",
   "nbconvert_exporter": "python",
   "pygments_lexer": "ipython3",
   "version": "3.9.13"
  },
  "orig_nbformat": 4
 },
 "nbformat": 4,
 "nbformat_minor": 2
}
